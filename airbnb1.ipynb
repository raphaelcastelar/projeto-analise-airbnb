{
 "cells": [
  {
   "cell_type": "code",
   "execution_count": null,
   "metadata": {},
   "outputs": [],
   "source": [
    "import pandas as pd\n",
    "import pathlib\n",
    "import numpy as np\n",
    "caminho_bases = pathlib.Path('base de dados')\n",
    "base_airbnb = pd.DataFrame()\n",
    "meses = {'jan' : 1, 'fev' : 2, 'mar' : 3, 'abr' : 4, 'mai' : 5, 'jun' : 6, 'jul' : 7, 'ago' : 8, 'set' : 9, 'out': 10, 'nov' : 11, 'dez' : 12}\n",
    "\n",
    "\n",
    "for arquivo in caminho_bases.iterdir():\n",
    "    nome_mes = arquivo.name[:3]\n",
    "    mes = meses[nome_mes]\n",
    "    ano = arquivo.name[-8:]\n",
    "    ano = int(ano.replace('.csv', ''))\n",
    "    \n",
    "    df = pd.read_csv(caminho_bases / arquivo.name)\n",
    "    \n",
    "    df['ano'] = ano\n",
    "    df['mes'] = mes\n",
    "\n",
    "    base_airbnb = base_airbnb._append(df)\n",
    "\n",
    "\n",
    "\n",
    "colunas = ['host_response_time','host_response_rate','host_is_superhost','host_listings_count','latitude','longitude','property_type','room_type','accommodates','bathrooms','bedrooms','beds','bed_type','amenities','price','security_deposit','cleaning_fee','guests_included','extra_people','minimum_nights','maximum_nights','number_of_reviews','review_scores_rating','review_scores_accuracy','review_scores_cleanliness','review_scores_checkin','review_scores_communication','review_scores_location','review_scores_value','instant_bookable','is_business_travel_ready','cancellation_policy','ano','mes']\n",
    "\n",
    "base_airbnb = base_airbnb.loc[:, colunas]\n",
    "display(base_airbnb)\n",
    "\n",
    "for coluna in base_airbnb:\n",
    "    if base_airbnb[coluna].isnull().sum() > 300000:\n",
    "        base_airbnb = base_airbnb.drop(coluna, axis=1)\n",
    "        \n",
    "\n",
    "base_airbnb = base_airbnb.dropna()\n",
    "print(base_airbnb.isnull().sum())\n",
    "\n",
    "print(base_airbnb.dtypes)\n",
    "print('-'*60)\n",
    "print(base_airbnb.iloc[0])\n",
    "\n",
    "# Certificar-se de que as colunas são strings\n",
    "base_airbnb['price'] = base_airbnb['price'].astype(str)\n",
    "base_airbnb['extra_people'] = base_airbnb['extra_people'].astype(str)\n",
    "\n",
    "# Remover símbolos de dólar e vírgulas, em seguida converter para float\n",
    "base_airbnb['price'] = base_airbnb['price'].str.replace('$', '').str.replace(',', '').astype(np.float32, copy=False)\n",
    "base_airbnb['extra_people'] = base_airbnb['extra_people'].str.replace('$', '').str.replace(',', '').astype(np.float32, copy=False)\n",
    "\n",
    "print(base_airbnb.dtypes)\n",
    "\n"
   ]
  },
  {
   "cell_type": "code",
   "execution_count": null,
   "metadata": {},
   "outputs": [],
   "source": []
  }
 ],
 "metadata": {
  "kernelspec": {
   "display_name": "Python 3",
   "language": "python",
   "name": "python3"
  },
  "language_info": {
   "codemirror_mode": {
    "name": "ipython",
    "version": 3
   },
   "file_extension": ".py",
   "mimetype": "text/x-python",
   "name": "python",
   "nbconvert_exporter": "python",
   "pygments_lexer": "ipython3",
   "version": "3.12.2"
  }
 },
 "nbformat": 4,
 "nbformat_minor": 2
}
