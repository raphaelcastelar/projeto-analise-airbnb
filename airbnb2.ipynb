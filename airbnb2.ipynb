{
 "cells": [
  {
   "cell_type": "code",
   "execution_count": 5,
   "metadata": {},
   "outputs": [],
   "source": [
    "import pandas as pd\n",
    "import pathlib\n",
    "import numpy as np"
   ]
  },
  {
   "cell_type": "code",
   "execution_count": 8,
   "metadata": {},
   "outputs": [
    {
     "name": "stderr",
     "output_type": "stream",
     "text": [
      "/var/folders/qz/y6_hsdhd6gsbs7nck_9v8f8r0000gn/T/ipykernel_1986/4254408390.py:12: DtypeWarning: Columns (61,62,94) have mixed types. Specify dtype option on import or set low_memory=False.\n",
      "  df = pd.read_csv(caminho_bases / arquivo.name)\n",
      "/var/folders/qz/y6_hsdhd6gsbs7nck_9v8f8r0000gn/T/ipykernel_1986/4254408390.py:12: DtypeWarning: Columns (61,62,94) have mixed types. Specify dtype option on import or set low_memory=False.\n",
      "  df = pd.read_csv(caminho_bases / arquivo.name)\n",
      "/var/folders/qz/y6_hsdhd6gsbs7nck_9v8f8r0000gn/T/ipykernel_1986/4254408390.py:12: DtypeWarning: Columns (87) have mixed types. Specify dtype option on import or set low_memory=False.\n",
      "  df = pd.read_csv(caminho_bases / arquivo.name)\n"
     ]
    },
    {
     "ename": "KeyError",
     "evalue": "'.DS'",
     "output_type": "error",
     "traceback": [
      "\u001b[0;31m---------------------------------------------------------------------------\u001b[0m",
      "\u001b[0;31mKeyError\u001b[0m                                  Traceback (most recent call last)",
      "Cell \u001b[0;32mIn[8], line 8\u001b[0m\n\u001b[1;32m      6\u001b[0m \u001b[38;5;28;01mfor\u001b[39;00m arquivo \u001b[38;5;129;01min\u001b[39;00m caminho_bases\u001b[38;5;241m.\u001b[39miterdir():\n\u001b[1;32m      7\u001b[0m     nome_mes \u001b[38;5;241m=\u001b[39m arquivo\u001b[38;5;241m.\u001b[39mname[:\u001b[38;5;241m3\u001b[39m]\n\u001b[0;32m----> 8\u001b[0m     mes \u001b[38;5;241m=\u001b[39m \u001b[43mmeses\u001b[49m\u001b[43m[\u001b[49m\u001b[43mnome_mes\u001b[49m\u001b[43m]\u001b[49m\n\u001b[1;32m      9\u001b[0m     ano \u001b[38;5;241m=\u001b[39m arquivo\u001b[38;5;241m.\u001b[39mname[\u001b[38;5;241m-\u001b[39m\u001b[38;5;241m8\u001b[39m:]\n\u001b[1;32m     10\u001b[0m     ano \u001b[38;5;241m=\u001b[39m \u001b[38;5;28mint\u001b[39m(ano\u001b[38;5;241m.\u001b[39mreplace(\u001b[38;5;124m'\u001b[39m\u001b[38;5;124m.csv\u001b[39m\u001b[38;5;124m'\u001b[39m, \u001b[38;5;124m'\u001b[39m\u001b[38;5;124m'\u001b[39m))\n",
      "\u001b[0;31mKeyError\u001b[0m: '.DS'"
     ]
    }
   ],
   "source": [
    "caminho_bases = pathlib.Path('archive')\n",
    "base_airbnb = pd.DataFrame()\n",
    "meses = {'jan' : 1, 'fev' : 2, 'mar' : 3, 'abr' : 4, 'mai' : 5, 'jun' : 6, 'jul' : 7, 'ago' : 8, 'set' : 9, 'out': 10, 'nov' : 11, 'dez' : 12}\n",
    "\n",
    "\n",
    "for arquivo in caminho_bases.iterdir():\n",
    "    nome_mes = arquivo.name[:3]\n",
    "    mes = meses[nome_mes]\n",
    "    ano = arquivo.name[-8:]\n",
    "    ano = int(ano.replace('.csv', ''))\n",
    "    \n",
    "    df = pd.read_csv(caminho_bases / arquivo.name)\n",
    "    \n",
    "    df['ano'] = ano\n",
    "    df['mes'] = mes\n",
    "\n",
    "    base_airbnb = base_airbnb._append(df)\n",
    "\n"
   ]
  },
  {
   "cell_type": "markdown",
   "metadata": {},
   "source": [
    "- Temos muitas colunas, então vou analisar para usar apenas as colunas necessárias para a previsão dos preços.\n",
    "\n",
    "- Para isso, vou criar um arquivo em excel com os 1000 primeiros registros e fazer uma analise qualitativa.\n",
    "\n",
    "- Tipos de informações que eu vou excluir:\n",
    "-IDS, Links, Informações não relevantes\n",
    "-Colunas repetidadas ou extremamente parecidas com outras (que dão a mesma informação para o modelo)\n",
    "-Colunas preenchidas com texto livre (não irá ser rodado nenhuma análise de texto)\n",
    "-Coluna em que todos ou quase todos os valores são iguais\n"
   ]
  },
  {
   "cell_type": "code",
   "execution_count": null,
   "metadata": {},
   "outputs": [],
   "source": [
    "colunas = ['host_response_time','host_response_rate','host_is_superhost','host_listings_count','latitude','longitude','property_type','room_type','accommodates','bathrooms','bedrooms','beds','bed_type','amenities','price','security_deposit','cleaning_fee','guests_included','extra_people','minimum_nights','maximum_nights','number_of_reviews','review_scores_rating','review_scores_accuracy','review_scores_cleanliness','review_scores_checkin','review_scores_communication','review_scores_location','review_scores_value','instant_bookable','is_business_travel_ready','cancellation_policy','ano','mes']\n",
    "\n",
    "base_airbnb = base_airbnb.loc[:, colunas]\n",
    "display(base_airbnb)"
   ]
  },
  {
   "cell_type": "markdown",
   "metadata": {},
   "source": [
    "Verificando a quantidade de valores nulos na minha base da dados e fazendo o tratamento "
   ]
  },
  {
   "cell_type": "code",
   "execution_count": null,
   "metadata": {},
   "outputs": [],
   "source": [
    "\n",
    "for coluna in base_airbnb:\n",
    "    if base_airbnb[coluna].isnull().sum() > 300000:\n",
    "        base_airbnb = base_airbnb.drop(coluna, axis=1)\n",
    "        \n"
   ]
  },
  {
   "cell_type": "code",
   "execution_count": null,
   "metadata": {},
   "outputs": [],
   "source": [
    "base_airbnb = base_airbnb.dropna()\n",
    "print(base_airbnb.isnull().sum())"
   ]
  },
  {
   "cell_type": "markdown",
   "metadata": {},
   "source": [
    "Como preço e extra people estão sendo reconhecidos como objeto, tenho que mudar o tipo de variável da coluna"
   ]
  },
  {
   "cell_type": "code",
   "execution_count": null,
   "metadata": {},
   "outputs": [],
   "source": [
    "print(base_airbnb.dtypes)\n",
    "print('-'*60)\n",
    "print(base_airbnb.iloc[0])\n"
   ]
  },
  {
   "cell_type": "code",
   "execution_count": null,
   "metadata": {},
   "outputs": [],
   "source": [
    "# Certificar-se de que as colunas são strings\n",
    "base_airbnb['price'] = base_airbnb['price'].astype(str)\n",
    "base_airbnb['extra_people'] = base_airbnb['extra_people'].astype(str)\n",
    "\n",
    "\n",
    "# Remover símbolos de dólar e vírgulas, em seguida converter para float\n",
    "base_airbnb['price'] = base_airbnb['price'].str.replace('$', '').str.replace(',', '').astype(np.float32, copy=False)\n",
    "base_airbnb['extra_people'] = base_airbnb['extra_people'].str.replace('$', '').str.replace(',', '').astype(np.float32, copy=False)\n",
    "\n",
    "base_airbnb['price'] = pd.to_numeric(base_airbnb['price'], errors='coerce')\n",
    "base_airbnb['extra_people'] = pd.to_numeric(base_airbnb['extra_people'], errors='coerce')\n",
    "print(base_airbnb.dtypes)"
   ]
  },
  {
   "cell_type": "code",
   "execution_count": null,
   "metadata": {},
   "outputs": [],
   "source": [
    "print(base_airbnb.corr())"
   ]
  },
  {
   "cell_type": "code",
   "execution_count": null,
   "metadata": {},
   "outputs": [],
   "source": []
  }
 ],
 "metadata": {
  "kernelspec": {
   "display_name": "Python 3",
   "language": "python",
   "name": "python3"
  },
  "language_info": {
   "codemirror_mode": {
    "name": "ipython",
    "version": 3
   },
   "file_extension": ".py",
   "mimetype": "text/x-python",
   "name": "python",
   "nbconvert_exporter": "python",
   "pygments_lexer": "ipython3",
   "version": "3.12.4"
  }
 },
 "nbformat": 4,
 "nbformat_minor": 2
}
