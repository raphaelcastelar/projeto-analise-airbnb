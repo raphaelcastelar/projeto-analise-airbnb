{
 "cells": [
  {
   "cell_type": "code",
   "execution_count": 16,
   "metadata": {},
   "outputs": [],
   "source": [
    "import pandas as pd\n",
    "import pathlib\n",
    "import numpy as np\n",
    "import seaborn as sns\n",
    "import matplotlib.pyplot as plt\n"
   ]
  },
  {
   "cell_type": "code",
   "execution_count": 17,
   "metadata": {},
   "outputs": [
    {
     "name": "stderr",
     "output_type": "stream",
     "text": [
      "/var/folders/qz/y6_hsdhd6gsbs7nck_9v8f8r0000gn/T/ipykernel_1555/4254408390.py:12: DtypeWarning: Columns (61,62,94) have mixed types. Specify dtype option on import or set low_memory=False.\n",
      "  df = pd.read_csv(caminho_bases / arquivo.name)\n",
      "/var/folders/qz/y6_hsdhd6gsbs7nck_9v8f8r0000gn/T/ipykernel_1555/4254408390.py:12: DtypeWarning: Columns (61,62,94) have mixed types. Specify dtype option on import or set low_memory=False.\n",
      "  df = pd.read_csv(caminho_bases / arquivo.name)\n",
      "/var/folders/qz/y6_hsdhd6gsbs7nck_9v8f8r0000gn/T/ipykernel_1555/4254408390.py:12: DtypeWarning: Columns (87) have mixed types. Specify dtype option on import or set low_memory=False.\n",
      "  df = pd.read_csv(caminho_bases / arquivo.name)\n",
      "/var/folders/qz/y6_hsdhd6gsbs7nck_9v8f8r0000gn/T/ipykernel_1555/4254408390.py:12: DtypeWarning: Columns (61,62,94) have mixed types. Specify dtype option on import or set low_memory=False.\n",
      "  df = pd.read_csv(caminho_bases / arquivo.name)\n",
      "/var/folders/qz/y6_hsdhd6gsbs7nck_9v8f8r0000gn/T/ipykernel_1555/4254408390.py:12: DtypeWarning: Columns (61,62,94) have mixed types. Specify dtype option on import or set low_memory=False.\n",
      "  df = pd.read_csv(caminho_bases / arquivo.name)\n",
      "/var/folders/qz/y6_hsdhd6gsbs7nck_9v8f8r0000gn/T/ipykernel_1555/4254408390.py:12: DtypeWarning: Columns (61,62,94) have mixed types. Specify dtype option on import or set low_memory=False.\n",
      "  df = pd.read_csv(caminho_bases / arquivo.name)\n",
      "/var/folders/qz/y6_hsdhd6gsbs7nck_9v8f8r0000gn/T/ipykernel_1555/4254408390.py:12: DtypeWarning: Columns (61,62,94) have mixed types. Specify dtype option on import or set low_memory=False.\n",
      "  df = pd.read_csv(caminho_bases / arquivo.name)\n",
      "/var/folders/qz/y6_hsdhd6gsbs7nck_9v8f8r0000gn/T/ipykernel_1555/4254408390.py:12: DtypeWarning: Columns (87) have mixed types. Specify dtype option on import or set low_memory=False.\n",
      "  df = pd.read_csv(caminho_bases / arquivo.name)\n",
      "/var/folders/qz/y6_hsdhd6gsbs7nck_9v8f8r0000gn/T/ipykernel_1555/4254408390.py:12: DtypeWarning: Columns (87) have mixed types. Specify dtype option on import or set low_memory=False.\n",
      "  df = pd.read_csv(caminho_bases / arquivo.name)\n",
      "/var/folders/qz/y6_hsdhd6gsbs7nck_9v8f8r0000gn/T/ipykernel_1555/4254408390.py:12: DtypeWarning: Columns (87) have mixed types. Specify dtype option on import or set low_memory=False.\n",
      "  df = pd.read_csv(caminho_bases / arquivo.name)\n",
      "/var/folders/qz/y6_hsdhd6gsbs7nck_9v8f8r0000gn/T/ipykernel_1555/4254408390.py:12: DtypeWarning: Columns (61,62,94) have mixed types. Specify dtype option on import or set low_memory=False.\n",
      "  df = pd.read_csv(caminho_bases / arquivo.name)\n",
      "/var/folders/qz/y6_hsdhd6gsbs7nck_9v8f8r0000gn/T/ipykernel_1555/4254408390.py:12: DtypeWarning: Columns (87) have mixed types. Specify dtype option on import or set low_memory=False.\n",
      "  df = pd.read_csv(caminho_bases / arquivo.name)\n",
      "/var/folders/qz/y6_hsdhd6gsbs7nck_9v8f8r0000gn/T/ipykernel_1555/4254408390.py:12: DtypeWarning: Columns (61,62,94) have mixed types. Specify dtype option on import or set low_memory=False.\n",
      "  df = pd.read_csv(caminho_bases / arquivo.name)\n",
      "/var/folders/qz/y6_hsdhd6gsbs7nck_9v8f8r0000gn/T/ipykernel_1555/4254408390.py:12: DtypeWarning: Columns (62,87) have mixed types. Specify dtype option on import or set low_memory=False.\n",
      "  df = pd.read_csv(caminho_bases / arquivo.name)\n",
      "/var/folders/qz/y6_hsdhd6gsbs7nck_9v8f8r0000gn/T/ipykernel_1555/4254408390.py:12: DtypeWarning: Columns (61,62,94) have mixed types. Specify dtype option on import or set low_memory=False.\n",
      "  df = pd.read_csv(caminho_bases / arquivo.name)\n",
      "/var/folders/qz/y6_hsdhd6gsbs7nck_9v8f8r0000gn/T/ipykernel_1555/4254408390.py:12: DtypeWarning: Columns (61,62,94) have mixed types. Specify dtype option on import or set low_memory=False.\n",
      "  df = pd.read_csv(caminho_bases / arquivo.name)\n",
      "/var/folders/qz/y6_hsdhd6gsbs7nck_9v8f8r0000gn/T/ipykernel_1555/4254408390.py:12: DtypeWarning: Columns (87) have mixed types. Specify dtype option on import or set low_memory=False.\n",
      "  df = pd.read_csv(caminho_bases / arquivo.name)\n",
      "/var/folders/qz/y6_hsdhd6gsbs7nck_9v8f8r0000gn/T/ipykernel_1555/4254408390.py:12: DtypeWarning: Columns (61,62,94) have mixed types. Specify dtype option on import or set low_memory=False.\n",
      "  df = pd.read_csv(caminho_bases / arquivo.name)\n",
      "/var/folders/qz/y6_hsdhd6gsbs7nck_9v8f8r0000gn/T/ipykernel_1555/4254408390.py:12: DtypeWarning: Columns (87) have mixed types. Specify dtype option on import or set low_memory=False.\n",
      "  df = pd.read_csv(caminho_bases / arquivo.name)\n",
      "/var/folders/qz/y6_hsdhd6gsbs7nck_9v8f8r0000gn/T/ipykernel_1555/4254408390.py:12: DtypeWarning: Columns (61,62,94) have mixed types. Specify dtype option on import or set low_memory=False.\n",
      "  df = pd.read_csv(caminho_bases / arquivo.name)\n",
      "/var/folders/qz/y6_hsdhd6gsbs7nck_9v8f8r0000gn/T/ipykernel_1555/4254408390.py:12: DtypeWarning: Columns (61,62,94) have mixed types. Specify dtype option on import or set low_memory=False.\n",
      "  df = pd.read_csv(caminho_bases / arquivo.name)\n",
      "/var/folders/qz/y6_hsdhd6gsbs7nck_9v8f8r0000gn/T/ipykernel_1555/4254408390.py:12: DtypeWarning: Columns (61,62,94) have mixed types. Specify dtype option on import or set low_memory=False.\n",
      "  df = pd.read_csv(caminho_bases / arquivo.name)\n",
      "/var/folders/qz/y6_hsdhd6gsbs7nck_9v8f8r0000gn/T/ipykernel_1555/4254408390.py:12: DtypeWarning: Columns (61,62,94) have mixed types. Specify dtype option on import or set low_memory=False.\n",
      "  df = pd.read_csv(caminho_bases / arquivo.name)\n",
      "/var/folders/qz/y6_hsdhd6gsbs7nck_9v8f8r0000gn/T/ipykernel_1555/4254408390.py:12: DtypeWarning: Columns (61,62,94) have mixed types. Specify dtype option on import or set low_memory=False.\n",
      "  df = pd.read_csv(caminho_bases / arquivo.name)\n",
      "/var/folders/qz/y6_hsdhd6gsbs7nck_9v8f8r0000gn/T/ipykernel_1555/4254408390.py:12: DtypeWarning: Columns (61,62,94) have mixed types. Specify dtype option on import or set low_memory=False.\n",
      "  df = pd.read_csv(caminho_bases / arquivo.name)\n"
     ]
    }
   ],
   "source": [
    "caminho_bases = pathlib.Path('archive')\n",
    "base_airbnb = pd.DataFrame()\n",
    "meses = {'jan' : 1, 'fev' : 2, 'mar' : 3, 'abr' : 4, 'mai' : 5, 'jun' : 6, 'jul' : 7, 'ago' : 8, 'set' : 9, 'out': 10, 'nov' : 11, 'dez' : 12}\n",
    "\n",
    "\n",
    "for arquivo in caminho_bases.iterdir():\n",
    "    nome_mes = arquivo.name[:3]\n",
    "    mes = meses[nome_mes]\n",
    "    ano = arquivo.name[-8:]\n",
    "    ano = int(ano.replace('.csv', ''))\n",
    "    \n",
    "    df = pd.read_csv(caminho_bases / arquivo.name)\n",
    "    \n",
    "    df['ano'] = ano\n",
    "    df['mes'] = mes\n",
    "\n",
    "    base_airbnb = base_airbnb._append(df)\n",
    "\n"
   ]
  },
  {
   "cell_type": "markdown",
   "metadata": {},
   "source": [
    "- Temos muitas colunas, então vou analisar para usar apenas as colunas necessárias para a previsão dos preços.\n",
    "\n",
    "- Para isso, vou criar um arquivo em excel com os 1000 primeiros registros e fazer uma analise qualitativa.\n",
    "\n",
    "- Tipos de informações que eu vou excluir:\n",
    "-IDS, Links, Informações não relevantes\n",
    "-Colunas repetidadas ou extremamente parecidas com outras (que dão a mesma informação para o modelo)\n",
    "-Colunas preenchidas com texto livre (não irá ser rodado nenhuma análise de texto)\n",
    "-Coluna em que todos ou quase todos os valores são iguais\n"
   ]
  },
  {
   "cell_type": "code",
   "execution_count": 18,
   "metadata": {},
   "outputs": [
    {
     "data": {
      "text/html": [
       "<div>\n",
       "<style scoped>\n",
       "    .dataframe tbody tr th:only-of-type {\n",
       "        vertical-align: middle;\n",
       "    }\n",
       "\n",
       "    .dataframe tbody tr th {\n",
       "        vertical-align: top;\n",
       "    }\n",
       "\n",
       "    .dataframe thead th {\n",
       "        text-align: right;\n",
       "    }\n",
       "</style>\n",
       "<table border=\"1\" class=\"dataframe\">\n",
       "  <thead>\n",
       "    <tr style=\"text-align: right;\">\n",
       "      <th></th>\n",
       "      <th>host_response_time</th>\n",
       "      <th>host_response_rate</th>\n",
       "      <th>host_is_superhost</th>\n",
       "      <th>host_listings_count</th>\n",
       "      <th>latitude</th>\n",
       "      <th>longitude</th>\n",
       "      <th>property_type</th>\n",
       "      <th>room_type</th>\n",
       "      <th>accommodates</th>\n",
       "      <th>bathrooms</th>\n",
       "      <th>...</th>\n",
       "      <th>review_scores_cleanliness</th>\n",
       "      <th>review_scores_checkin</th>\n",
       "      <th>review_scores_communication</th>\n",
       "      <th>review_scores_location</th>\n",
       "      <th>review_scores_value</th>\n",
       "      <th>instant_bookable</th>\n",
       "      <th>is_business_travel_ready</th>\n",
       "      <th>cancellation_policy</th>\n",
       "      <th>ano</th>\n",
       "      <th>mes</th>\n",
       "    </tr>\n",
       "  </thead>\n",
       "  <tbody>\n",
       "    <tr>\n",
       "      <th>0</th>\n",
       "      <td>within an hour</td>\n",
       "      <td>100%</td>\n",
       "      <td>t</td>\n",
       "      <td>2.0</td>\n",
       "      <td>-22.96592</td>\n",
       "      <td>-43.17896</td>\n",
       "      <td>Condominium</td>\n",
       "      <td>Entire home/apt</td>\n",
       "      <td>5</td>\n",
       "      <td>1.0</td>\n",
       "      <td>...</td>\n",
       "      <td>10.0</td>\n",
       "      <td>10.0</td>\n",
       "      <td>10.0</td>\n",
       "      <td>10.0</td>\n",
       "      <td>9.0</td>\n",
       "      <td>t</td>\n",
       "      <td>f</td>\n",
       "      <td>strict_14_with_grace_period</td>\n",
       "      <td>2020</td>\n",
       "      <td>1</td>\n",
       "    </tr>\n",
       "    <tr>\n",
       "      <th>1</th>\n",
       "      <td>within an hour</td>\n",
       "      <td>100%</td>\n",
       "      <td>f</td>\n",
       "      <td>0.0</td>\n",
       "      <td>-22.98467</td>\n",
       "      <td>-43.19611</td>\n",
       "      <td>Apartment</td>\n",
       "      <td>Entire home/apt</td>\n",
       "      <td>6</td>\n",
       "      <td>2.0</td>\n",
       "      <td>...</td>\n",
       "      <td>10.0</td>\n",
       "      <td>10.0</td>\n",
       "      <td>10.0</td>\n",
       "      <td>10.0</td>\n",
       "      <td>10.0</td>\n",
       "      <td>f</td>\n",
       "      <td>f</td>\n",
       "      <td>strict_14_with_grace_period</td>\n",
       "      <td>2020</td>\n",
       "      <td>1</td>\n",
       "    </tr>\n",
       "    <tr>\n",
       "      <th>2</th>\n",
       "      <td>within a day</td>\n",
       "      <td>86%</td>\n",
       "      <td>f</td>\n",
       "      <td>3.0</td>\n",
       "      <td>-22.97712</td>\n",
       "      <td>-43.19045</td>\n",
       "      <td>Apartment</td>\n",
       "      <td>Entire home/apt</td>\n",
       "      <td>2</td>\n",
       "      <td>1.0</td>\n",
       "      <td>...</td>\n",
       "      <td>10.0</td>\n",
       "      <td>9.0</td>\n",
       "      <td>10.0</td>\n",
       "      <td>10.0</td>\n",
       "      <td>9.0</td>\n",
       "      <td>f</td>\n",
       "      <td>f</td>\n",
       "      <td>strict_14_with_grace_period</td>\n",
       "      <td>2020</td>\n",
       "      <td>1</td>\n",
       "    </tr>\n",
       "    <tr>\n",
       "      <th>3</th>\n",
       "      <td>within an hour</td>\n",
       "      <td>100%</td>\n",
       "      <td>t</td>\n",
       "      <td>1.0</td>\n",
       "      <td>-22.98302</td>\n",
       "      <td>-43.21427</td>\n",
       "      <td>Apartment</td>\n",
       "      <td>Entire home/apt</td>\n",
       "      <td>3</td>\n",
       "      <td>1.0</td>\n",
       "      <td>...</td>\n",
       "      <td>10.0</td>\n",
       "      <td>10.0</td>\n",
       "      <td>10.0</td>\n",
       "      <td>10.0</td>\n",
       "      <td>10.0</td>\n",
       "      <td>t</td>\n",
       "      <td>f</td>\n",
       "      <td>strict_14_with_grace_period</td>\n",
       "      <td>2020</td>\n",
       "      <td>1</td>\n",
       "    </tr>\n",
       "    <tr>\n",
       "      <th>4</th>\n",
       "      <td>within an hour</td>\n",
       "      <td>100%</td>\n",
       "      <td>f</td>\n",
       "      <td>1.0</td>\n",
       "      <td>-22.98816</td>\n",
       "      <td>-43.19359</td>\n",
       "      <td>Apartment</td>\n",
       "      <td>Entire home/apt</td>\n",
       "      <td>2</td>\n",
       "      <td>1.5</td>\n",
       "      <td>...</td>\n",
       "      <td>9.0</td>\n",
       "      <td>10.0</td>\n",
       "      <td>10.0</td>\n",
       "      <td>10.0</td>\n",
       "      <td>9.0</td>\n",
       "      <td>f</td>\n",
       "      <td>f</td>\n",
       "      <td>strict_14_with_grace_period</td>\n",
       "      <td>2020</td>\n",
       "      <td>1</td>\n",
       "    </tr>\n",
       "    <tr>\n",
       "      <th>...</th>\n",
       "      <td>...</td>\n",
       "      <td>...</td>\n",
       "      <td>...</td>\n",
       "      <td>...</td>\n",
       "      <td>...</td>\n",
       "      <td>...</td>\n",
       "      <td>...</td>\n",
       "      <td>...</td>\n",
       "      <td>...</td>\n",
       "      <td>...</td>\n",
       "      <td>...</td>\n",
       "      <td>...</td>\n",
       "      <td>...</td>\n",
       "      <td>...</td>\n",
       "      <td>...</td>\n",
       "      <td>...</td>\n",
       "      <td>...</td>\n",
       "      <td>...</td>\n",
       "      <td>...</td>\n",
       "      <td>...</td>\n",
       "      <td>...</td>\n",
       "    </tr>\n",
       "    <tr>\n",
       "      <th>36373</th>\n",
       "      <td>NaN</td>\n",
       "      <td>NaN</td>\n",
       "      <td>f</td>\n",
       "      <td>1.0</td>\n",
       "      <td>-23.02612</td>\n",
       "      <td>-43.46498</td>\n",
       "      <td>Condominium</td>\n",
       "      <td>Entire home/apt</td>\n",
       "      <td>6</td>\n",
       "      <td>2.5</td>\n",
       "      <td>...</td>\n",
       "      <td>NaN</td>\n",
       "      <td>NaN</td>\n",
       "      <td>NaN</td>\n",
       "      <td>NaN</td>\n",
       "      <td>NaN</td>\n",
       "      <td>t</td>\n",
       "      <td>f</td>\n",
       "      <td>flexible</td>\n",
       "      <td>2019</td>\n",
       "      <td>3</td>\n",
       "    </tr>\n",
       "    <tr>\n",
       "      <th>36374</th>\n",
       "      <td>NaN</td>\n",
       "      <td>NaN</td>\n",
       "      <td>f</td>\n",
       "      <td>1.0</td>\n",
       "      <td>-23.01049</td>\n",
       "      <td>-43.36381</td>\n",
       "      <td>Apartment</td>\n",
       "      <td>Entire home/apt</td>\n",
       "      <td>6</td>\n",
       "      <td>1.0</td>\n",
       "      <td>...</td>\n",
       "      <td>NaN</td>\n",
       "      <td>NaN</td>\n",
       "      <td>NaN</td>\n",
       "      <td>NaN</td>\n",
       "      <td>NaN</td>\n",
       "      <td>t</td>\n",
       "      <td>f</td>\n",
       "      <td>flexible</td>\n",
       "      <td>2019</td>\n",
       "      <td>3</td>\n",
       "    </tr>\n",
       "    <tr>\n",
       "      <th>36375</th>\n",
       "      <td>NaN</td>\n",
       "      <td>NaN</td>\n",
       "      <td>f</td>\n",
       "      <td>1.0</td>\n",
       "      <td>-22.92795</td>\n",
       "      <td>-43.17568</td>\n",
       "      <td>Apartment</td>\n",
       "      <td>Entire home/apt</td>\n",
       "      <td>2</td>\n",
       "      <td>1.0</td>\n",
       "      <td>...</td>\n",
       "      <td>NaN</td>\n",
       "      <td>NaN</td>\n",
       "      <td>NaN</td>\n",
       "      <td>NaN</td>\n",
       "      <td>NaN</td>\n",
       "      <td>t</td>\n",
       "      <td>f</td>\n",
       "      <td>flexible</td>\n",
       "      <td>2019</td>\n",
       "      <td>3</td>\n",
       "    </tr>\n",
       "    <tr>\n",
       "      <th>36376</th>\n",
       "      <td>within a few hours</td>\n",
       "      <td>84%</td>\n",
       "      <td>f</td>\n",
       "      <td>34.0</td>\n",
       "      <td>-22.96248</td>\n",
       "      <td>-43.17447</td>\n",
       "      <td>Apartment</td>\n",
       "      <td>Entire home/apt</td>\n",
       "      <td>5</td>\n",
       "      <td>1.0</td>\n",
       "      <td>...</td>\n",
       "      <td>NaN</td>\n",
       "      <td>NaN</td>\n",
       "      <td>NaN</td>\n",
       "      <td>NaN</td>\n",
       "      <td>NaN</td>\n",
       "      <td>f</td>\n",
       "      <td>f</td>\n",
       "      <td>flexible</td>\n",
       "      <td>2019</td>\n",
       "      <td>3</td>\n",
       "    </tr>\n",
       "    <tr>\n",
       "      <th>36377</th>\n",
       "      <td>within a few hours</td>\n",
       "      <td>84%</td>\n",
       "      <td>f</td>\n",
       "      <td>34.0</td>\n",
       "      <td>-22.96248</td>\n",
       "      <td>-43.17447</td>\n",
       "      <td>Apartment</td>\n",
       "      <td>Entire home/apt</td>\n",
       "      <td>5</td>\n",
       "      <td>1.0</td>\n",
       "      <td>...</td>\n",
       "      <td>NaN</td>\n",
       "      <td>NaN</td>\n",
       "      <td>NaN</td>\n",
       "      <td>NaN</td>\n",
       "      <td>NaN</td>\n",
       "      <td>f</td>\n",
       "      <td>f</td>\n",
       "      <td>flexible</td>\n",
       "      <td>2019</td>\n",
       "      <td>3</td>\n",
       "    </tr>\n",
       "  </tbody>\n",
       "</table>\n",
       "<p>902210 rows × 34 columns</p>\n",
       "</div>"
      ],
      "text/plain": [
       "       host_response_time host_response_rate host_is_superhost  \\\n",
       "0          within an hour               100%                 t   \n",
       "1          within an hour               100%                 f   \n",
       "2            within a day                86%                 f   \n",
       "3          within an hour               100%                 t   \n",
       "4          within an hour               100%                 f   \n",
       "...                   ...                ...               ...   \n",
       "36373                 NaN                NaN                 f   \n",
       "36374                 NaN                NaN                 f   \n",
       "36375                 NaN                NaN                 f   \n",
       "36376  within a few hours                84%                 f   \n",
       "36377  within a few hours                84%                 f   \n",
       "\n",
       "       host_listings_count  latitude  longitude property_type  \\\n",
       "0                      2.0 -22.96592  -43.17896   Condominium   \n",
       "1                      0.0 -22.98467  -43.19611     Apartment   \n",
       "2                      3.0 -22.97712  -43.19045     Apartment   \n",
       "3                      1.0 -22.98302  -43.21427     Apartment   \n",
       "4                      1.0 -22.98816  -43.19359     Apartment   \n",
       "...                    ...       ...        ...           ...   \n",
       "36373                  1.0 -23.02612  -43.46498   Condominium   \n",
       "36374                  1.0 -23.01049  -43.36381     Apartment   \n",
       "36375                  1.0 -22.92795  -43.17568     Apartment   \n",
       "36376                 34.0 -22.96248  -43.17447     Apartment   \n",
       "36377                 34.0 -22.96248  -43.17447     Apartment   \n",
       "\n",
       "             room_type  accommodates  bathrooms  ...  \\\n",
       "0      Entire home/apt             5        1.0  ...   \n",
       "1      Entire home/apt             6        2.0  ...   \n",
       "2      Entire home/apt             2        1.0  ...   \n",
       "3      Entire home/apt             3        1.0  ...   \n",
       "4      Entire home/apt             2        1.5  ...   \n",
       "...                ...           ...        ...  ...   \n",
       "36373  Entire home/apt             6        2.5  ...   \n",
       "36374  Entire home/apt             6        1.0  ...   \n",
       "36375  Entire home/apt             2        1.0  ...   \n",
       "36376  Entire home/apt             5        1.0  ...   \n",
       "36377  Entire home/apt             5        1.0  ...   \n",
       "\n",
       "       review_scores_cleanliness  review_scores_checkin  \\\n",
       "0                           10.0                   10.0   \n",
       "1                           10.0                   10.0   \n",
       "2                           10.0                    9.0   \n",
       "3                           10.0                   10.0   \n",
       "4                            9.0                   10.0   \n",
       "...                          ...                    ...   \n",
       "36373                        NaN                    NaN   \n",
       "36374                        NaN                    NaN   \n",
       "36375                        NaN                    NaN   \n",
       "36376                        NaN                    NaN   \n",
       "36377                        NaN                    NaN   \n",
       "\n",
       "      review_scores_communication review_scores_location review_scores_value  \\\n",
       "0                            10.0                   10.0                 9.0   \n",
       "1                            10.0                   10.0                10.0   \n",
       "2                            10.0                   10.0                 9.0   \n",
       "3                            10.0                   10.0                10.0   \n",
       "4                            10.0                   10.0                 9.0   \n",
       "...                           ...                    ...                 ...   \n",
       "36373                         NaN                    NaN                 NaN   \n",
       "36374                         NaN                    NaN                 NaN   \n",
       "36375                         NaN                    NaN                 NaN   \n",
       "36376                         NaN                    NaN                 NaN   \n",
       "36377                         NaN                    NaN                 NaN   \n",
       "\n",
       "      instant_bookable is_business_travel_ready          cancellation_policy  \\\n",
       "0                    t                        f  strict_14_with_grace_period   \n",
       "1                    f                        f  strict_14_with_grace_period   \n",
       "2                    f                        f  strict_14_with_grace_period   \n",
       "3                    t                        f  strict_14_with_grace_period   \n",
       "4                    f                        f  strict_14_with_grace_period   \n",
       "...                ...                      ...                          ...   \n",
       "36373                t                        f                     flexible   \n",
       "36374                t                        f                     flexible   \n",
       "36375                t                        f                     flexible   \n",
       "36376                f                        f                     flexible   \n",
       "36377                f                        f                     flexible   \n",
       "\n",
       "        ano  mes  \n",
       "0      2020    1  \n",
       "1      2020    1  \n",
       "2      2020    1  \n",
       "3      2020    1  \n",
       "4      2020    1  \n",
       "...     ...  ...  \n",
       "36373  2019    3  \n",
       "36374  2019    3  \n",
       "36375  2019    3  \n",
       "36376  2019    3  \n",
       "36377  2019    3  \n",
       "\n",
       "[902210 rows x 34 columns]"
      ]
     },
     "metadata": {},
     "output_type": "display_data"
    }
   ],
   "source": [
    "colunas = ['host_response_time','host_response_rate','host_is_superhost','host_listings_count','latitude','longitude','property_type','room_type','accommodates','bathrooms','bedrooms','beds','bed_type','amenities','price','security_deposit','cleaning_fee','guests_included','extra_people','minimum_nights','maximum_nights','number_of_reviews','review_scores_rating','review_scores_accuracy','review_scores_cleanliness','review_scores_checkin','review_scores_communication','review_scores_location','review_scores_value','instant_bookable','is_business_travel_ready','cancellation_policy','ano','mes']\n",
    "\n",
    "base_airbnb = base_airbnb.loc[:, colunas]\n",
    "display(base_airbnb)"
   ]
  },
  {
   "cell_type": "markdown",
   "metadata": {},
   "source": [
    "Verificando a quantidade de valores nulos na minha base da dados e fazendo o tratamento "
   ]
  },
  {
   "cell_type": "code",
   "execution_count": 19,
   "metadata": {},
   "outputs": [],
   "source": [
    "\n",
    "for coluna in base_airbnb:\n",
    "    if base_airbnb[coluna].isnull().sum() > 300000:\n",
    "        base_airbnb = base_airbnb.drop(coluna, axis=1)\n",
    "        \n"
   ]
  },
  {
   "cell_type": "code",
   "execution_count": 20,
   "metadata": {},
   "outputs": [
    {
     "name": "stdout",
     "output_type": "stream",
     "text": [
      "host_is_superhost           0\n",
      "host_listings_count         0\n",
      "latitude                    0\n",
      "longitude                   0\n",
      "property_type               0\n",
      "room_type                   0\n",
      "accommodates                0\n",
      "bathrooms                   0\n",
      "bedrooms                    0\n",
      "beds                        0\n",
      "bed_type                    0\n",
      "amenities                   0\n",
      "price                       0\n",
      "guests_included             0\n",
      "extra_people                0\n",
      "minimum_nights              0\n",
      "maximum_nights              0\n",
      "number_of_reviews           0\n",
      "instant_bookable            0\n",
      "is_business_travel_ready    0\n",
      "cancellation_policy         0\n",
      "ano                         0\n",
      "mes                         0\n",
      "dtype: int64\n"
     ]
    }
   ],
   "source": [
    "base_airbnb = base_airbnb.dropna()\n",
    "print(base_airbnb.isnull().sum())"
   ]
  },
  {
   "cell_type": "markdown",
   "metadata": {},
   "source": [
    "Como preço e extra people estão sendo reconhecidos como objeto, tenho que mudar o tipo de variável da coluna"
   ]
  },
  {
   "cell_type": "code",
   "execution_count": 21,
   "metadata": {},
   "outputs": [
    {
     "name": "stdout",
     "output_type": "stream",
     "text": [
      "host_is_superhost            object\n",
      "host_listings_count         float64\n",
      "latitude                    float64\n",
      "longitude                   float64\n",
      "property_type                object\n",
      "room_type                    object\n",
      "accommodates                  int64\n",
      "bathrooms                   float64\n",
      "bedrooms                    float64\n",
      "beds                        float64\n",
      "bed_type                     object\n",
      "amenities                    object\n",
      "price                        object\n",
      "guests_included               int64\n",
      "extra_people                 object\n",
      "minimum_nights                int64\n",
      "maximum_nights                int64\n",
      "number_of_reviews             int64\n",
      "instant_bookable             object\n",
      "is_business_travel_ready     object\n",
      "cancellation_policy          object\n",
      "ano                           int64\n",
      "mes                           int64\n",
      "dtype: object\n",
      "------------------------------------------------------------\n",
      "host_is_superhost                                                           t\n",
      "host_listings_count                                                       2.0\n",
      "latitude                                                            -22.96592\n",
      "longitude                                                           -43.17896\n",
      "property_type                                                     Condominium\n",
      "room_type                                                     Entire home/apt\n",
      "accommodates                                                                5\n",
      "bathrooms                                                                 1.0\n",
      "bedrooms                                                                  2.0\n",
      "beds                                                                      2.0\n",
      "bed_type                                                             Real Bed\n",
      "amenities                   {TV,\"Cable TV\",Internet,Wifi,\"Air conditioning...\n",
      "price                                                                 $332.00\n",
      "guests_included                                                             2\n",
      "extra_people                                                           $63.00\n",
      "minimum_nights                                                              5\n",
      "maximum_nights                                                             30\n",
      "number_of_reviews                                                         246\n",
      "instant_bookable                                                            t\n",
      "is_business_travel_ready                                                    f\n",
      "cancellation_policy                               strict_14_with_grace_period\n",
      "ano                                                                      2020\n",
      "mes                                                                         1\n",
      "Name: 0, dtype: object\n"
     ]
    }
   ],
   "source": [
    "print(base_airbnb.dtypes)\n",
    "print('-'*60)\n",
    "print(base_airbnb.iloc[0])\n"
   ]
  },
  {
   "cell_type": "code",
   "execution_count": 22,
   "metadata": {},
   "outputs": [
    {
     "name": "stdout",
     "output_type": "stream",
     "text": [
      "host_is_superhost            object\n",
      "host_listings_count         float64\n",
      "latitude                    float64\n",
      "longitude                   float64\n",
      "property_type                object\n",
      "room_type                    object\n",
      "accommodates                  int64\n",
      "bathrooms                   float64\n",
      "bedrooms                    float64\n",
      "beds                        float64\n",
      "bed_type                     object\n",
      "amenities                    object\n",
      "price                       float32\n",
      "guests_included               int64\n",
      "extra_people                float32\n",
      "minimum_nights                int64\n",
      "maximum_nights                int64\n",
      "number_of_reviews             int64\n",
      "instant_bookable             object\n",
      "is_business_travel_ready     object\n",
      "cancellation_policy          object\n",
      "ano                           int64\n",
      "mes                           int64\n",
      "dtype: object\n"
     ]
    }
   ],
   "source": [
    "# Certificar-se de que as colunas são strings\n",
    "base_airbnb['price'] = base_airbnb['price'].astype(str)\n",
    "base_airbnb['extra_people'] = base_airbnb['extra_people'].astype(str)\n",
    "\n",
    "\n",
    "# Remover símbolos de dólar e vírgulas, em seguida converter para float\n",
    "base_airbnb['price'] = base_airbnb['price'].str.replace('$', '').str.replace(',', '').astype(np.float32, copy=False)\n",
    "base_airbnb['extra_people'] = base_airbnb['extra_people'].str.replace('$', '').str.replace(',', '').astype(np.float32, copy=False)\n",
    "\n",
    "base_airbnb['price'] = pd.to_numeric(base_airbnb['price'], errors='coerce')\n",
    "base_airbnb['extra_people'] = pd.to_numeric(base_airbnb['extra_people'], errors='coerce')\n",
    "print(base_airbnb.dtypes)"
   ]
  },
  {
   "cell_type": "markdown",
   "metadata": {},
   "source": [
    "Preparando o DataFrame para receber somente valores numéricos na coorelacao "
   ]
  },
  {
   "cell_type": "markdown",
   "metadata": {},
   "source": [
    "### Definicao de funcoes para análise de outliers\n",
    "#### Irei definir funcoes para ajudar na análise de outliers das colunas"
   ]
  },
  {
   "cell_type": "code",
   "execution_count": 23,
   "metadata": {},
   "outputs": [],
   "source": [
    "def limites(coluna):\n",
    "    q1 = coluna.quantile(0.25)\n",
    "    q3 = coluna.quantile(0.75)\n",
    "    amplitude = q3 - q1\n",
    "    return q1 - 1.5 * amplitude, q3 + 1.5 * amplitude\n",
    "    \n",
    "\n",
    "def excluirOutliers(df, nome_coluna):\n",
    "    qtde_linhas = df.shape[0]\n",
    "    lim_inf, lim_sup = limites(df[nome_coluna])\n",
    "    df = df.loc[(df[nome_coluna] >= lim_inf) & (df[nome_coluna] <= lim_sup), :]\n",
    "    linhas_removidas = qtde_linhas - df.shape[0]\n",
    "    return df, linhas_removidas"
   ]
  },
  {
   "cell_type": "markdown",
   "metadata": {},
   "source": [
    "## Funcoes de Gráficos"
   ]
  },
  {
   "cell_type": "code",
   "execution_count": 34,
   "metadata": {},
   "outputs": [],
   "source": [
    "def diagrama_caixa(coluna):\n",
    "   fig, (ax1, ax2) =  plt.subplots(1,2)\n",
    "   fig.set_size_inches(15,5)\n",
    "   sns.boxplot(x=coluna, ax=ax1)\n",
    "   ax2.set_xlim(limites(coluna))\n",
    "   sns.boxplot(x=coluna, ax=ax2)\n",
    "\n",
    "def histograma(coluna):\n",
    "   plt.figure(figsize=(15,5))\n",
    "   sns.distplot(coluna, hist=True)\n",
    "\n",
    "def grafico_barra(coluna):\n",
    "   plt.figure(figsize=(15,5))\n",
    "   ax = sns.barplot(x=coluna.value_counts().index, y=coluna.value_counts())\n",
    "   ax.set_xlim(limites(coluna))\n"
   ]
  },
  {
   "cell_type": "markdown",
   "metadata": {},
   "source": [
    "### Excluindo Outliers"
   ]
  },
  {
   "cell_type": "markdown",
   "metadata": {},
   "source": [
    "### Price"
   ]
  },
  {
   "cell_type": "code",
   "execution_count": 26,
   "metadata": {},
   "outputs": [
    {
     "name": "stdout",
     "output_type": "stream",
     "text": [
      "87282\n"
     ]
    }
   ],
   "source": [
    "base_airbnb, linhas_removidas = excluirOutliers(base_airbnb, 'price')\n",
    "print(linhas_removidas)\n",
    "histograma(base_airbnb['price'])"
   ]
  },
  {
   "cell_type": "markdown",
   "metadata": {},
   "source": [
    "### Extra people"
   ]
  },
  {
   "cell_type": "code",
   "execution_count": 28,
   "metadata": {},
   "outputs": [
    {
     "name": "stdout",
     "output_type": "stream",
     "text": [
      "59194\n"
     ]
    }
   ],
   "source": [
    "\n",
    "base_airbnb, linhas_removidas = excluirOutliers(base_airbnb, 'extra_people')\n",
    "print(linhas_removidas)\n",
    "histograma(base_airbnb['extra_people'])"
   ]
  },
  {
   "cell_type": "markdown",
   "metadata": {},
   "source": [
    "### Host_listings_count"
   ]
  },
  {
   "cell_type": "code",
   "execution_count": 40,
   "metadata": {},
   "outputs": [
    {
     "name": "stdout",
     "output_type": "stream",
     "text": [
      "97723\n"
     ]
    },
    {
     "data": {
      "image/png": "[encoded data removed]",
      "text/plain": [
       "<Figure size 1500x500 with 1 Axes>"
      ]
     },
     "metadata": {},
     "output_type": "display_data"
    }
   ],
   "source": [
    "\n",
    "base_airbnb, linhas_removidas = excluirOutliers(base_airbnb, 'host_listings_count')\n",
    "print(linhas_removidas)\n",
    "grafico_barra(base_airbnb['host_listings_count'])\n"
   ]
  },
  {
   "cell_type": "markdown",
   "metadata": {},
   "source": [
    "### Acommodates"
   ]
  },
  {
   "cell_type": "code",
   "execution_count": 44,
   "metadata": {},
   "outputs": [
    {
     "name": "stdout",
     "output_type": "stream",
     "text": [
      "13146\n"
     ]
    },
    {
     "data": {
      "image/png": "[encoded data removed]",
      "text/plain": [
       "<Figure size 1500x500 with 1 Axes>"
      ]
     },
     "metadata": {},
     "output_type": "display_data"
    }
   ],
   "source": [
    "\n",
    "base_airbnb, linhas_removidas = excluirOutliers(base_airbnb, 'accommodates')\n",
    "print(linhas_removidas)\n",
    "grafico_barra(base_airbnb['accommodates'])"
   ]
  },
  {
   "cell_type": "markdown",
   "metadata": {},
   "source": [
    "### bathrooms"
   ]
  },
  {
   "cell_type": "code",
   "execution_count": 47,
   "metadata": {},
   "outputs": [
    {
     "name": "stdout",
     "output_type": "stream",
     "text": [
      "6894\n"
     ]
    }
   ],
   "source": [
    "base_airbnb, linhas_removidas = excluirOutliers(base_airbnb, 'bathrooms')\n",
    "print(linhas_removidas)\n",
    "grafico_barra(base_airbnb['bathrooms'])"
   ]
  },
  {
   "cell_type": "markdown",
   "metadata": {},
   "source": [
    "### bedrooms"
   ]
  },
  {
   "cell_type": "code",
   "execution_count": 49,
   "metadata": {},
   "outputs": [
    {
     "name": "stdout",
     "output_type": "stream",
     "text": [
      "5482\n"
     ]
    }
   ],
   "source": [
    "base_airbnb, linhas_removidas = excluirOutliers(base_airbnb, 'bedrooms')\n",
    "print(linhas_removidas)"
   ]
  },
  {
   "cell_type": "markdown",
   "metadata": {},
   "source": [
    "### Beds"
   ]
  },
  {
   "cell_type": "code",
   "execution_count": 54,
   "metadata": {},
   "outputs": [
    {
     "name": "stdout",
     "output_type": "stream",
     "text": [
      "5622\n"
     ]
    },
    {
     "data": {
      "image/png": "[encoded data removed]",
      "text/plain": [
       "<Figure size 1500x500 with 1 Axes>"
      ]
     },
     "metadata": {},
     "output_type": "display_data"
    }
   ],
   "source": [
    "base_airbnb, linhas_removidas = excluirOutliers(base_airbnb, 'beds')\n",
    "print(linhas_removidas)\n",
    "grafico_barra(base_airbnb['beds'])"
   ]
  },
  {
   "cell_type": "markdown",
   "metadata": {},
   "source": [
    "### guests_included\n"
   ]
  },
  {
   "cell_type": "markdown",
   "metadata": {},
   "source": [
    "Não irei remover os outliers dessa feature, irei remover toda a coluna da análise, pelo que parece, os usuários do airbnb utilizam muito do valor padrão do aplicativo, sendo assim, a coluna \"guests_included\" irá atrapalhar a análise no geral. Irei desconsiderá-la no modelo."
   ]
  },
  {
   "cell_type": "code",
   "execution_count": 57,
   "metadata": {},
   "outputs": [
    {
     "data": {
      "text/plain": [
       "(622366, 22)"
      ]
     },
     "execution_count": 57,
     "metadata": {},
     "output_type": "execute_result"
    }
   ],
   "source": [
    "#diagrama_caixa(base_airbnb['guests_included'])\n",
    "#grafico_barra(base_airbnb['guests_included'])\n",
    "base_airbnb = base_airbnb.drop('guests_included', axis=1)\n",
    "base_airbnb.shape"
   ]
  },
  {
   "cell_type": "code",
   "execution_count": null,
   "metadata": {},
   "outputs": [],
   "source": []
  }
 ],
 "metadata": {
  "kernelspec": {
   "display_name": "Python 3",
   "language": "python",
   "name": "python3"
  },
  "language_info": {
   "codemirror_mode": {
    "name": "ipython",
    "version": 3
   },
   "file_extension": ".py",
   "mimetype": "text/x-python",
   "name": "python",
   "nbconvert_exporter": "python",
   "pygments_lexer": "ipython3",
   "version": "3.12.4"
  }
 },
 "nbformat": 4,
 "nbformat_minor": 2
}
