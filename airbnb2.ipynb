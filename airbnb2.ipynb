{
 "cells": [
  {
   "cell_type": "code",
   "execution_count": 2,
   "metadata": {},
   "outputs": [],
   "source": [
    "import pandas as pd\n",
    "import pathlib"
   ]
  },
  {
   "cell_type": "code",
   "execution_count": 11,
   "metadata": {},
   "outputs": [
    {
     "name": "stderr",
     "output_type": "stream",
     "text": [
      "C:\\Users\\Raphael Castelar\\AppData\\Local\\Temp\\ipykernel_12012\\1535400972.py:11: DtypeWarning: Columns (62,87) have mixed types. Specify dtype option on import or set low_memory=False.\n",
      "  df = pd.read_csv(r'base de dados\\{}'.format(arquivo.name))\n",
      "C:\\Users\\Raphael Castelar\\AppData\\Local\\Temp\\ipykernel_12012\\1535400972.py:11: DtypeWarning: Columns (61,62,94) have mixed types. Specify dtype option on import or set low_memory=False.\n",
      "  df = pd.read_csv(r'base de dados\\{}'.format(arquivo.name))\n",
      "C:\\Users\\Raphael Castelar\\AppData\\Local\\Temp\\ipykernel_12012\\1535400972.py:11: DtypeWarning: Columns (61,62,94) have mixed types. Specify dtype option on import or set low_memory=False.\n",
      "  df = pd.read_csv(r'base de dados\\{}'.format(arquivo.name))\n",
      "C:\\Users\\Raphael Castelar\\AppData\\Local\\Temp\\ipykernel_12012\\1535400972.py:11: DtypeWarning: Columns (87) have mixed types. Specify dtype option on import or set low_memory=False.\n",
      "  df = pd.read_csv(r'base de dados\\{}'.format(arquivo.name))\n",
      "C:\\Users\\Raphael Castelar\\AppData\\Local\\Temp\\ipykernel_12012\\1535400972.py:11: DtypeWarning: Columns (61,62,94) have mixed types. Specify dtype option on import or set low_memory=False.\n",
      "  df = pd.read_csv(r'base de dados\\{}'.format(arquivo.name))\n",
      "C:\\Users\\Raphael Castelar\\AppData\\Local\\Temp\\ipykernel_12012\\1535400972.py:11: DtypeWarning: Columns (87) have mixed types. Specify dtype option on import or set low_memory=False.\n",
      "  df = pd.read_csv(r'base de dados\\{}'.format(arquivo.name))\n",
      "C:\\Users\\Raphael Castelar\\AppData\\Local\\Temp\\ipykernel_12012\\1535400972.py:11: DtypeWarning: Columns (61,62,94) have mixed types. Specify dtype option on import or set low_memory=False.\n",
      "  df = pd.read_csv(r'base de dados\\{}'.format(arquivo.name))\n",
      "C:\\Users\\Raphael Castelar\\AppData\\Local\\Temp\\ipykernel_12012\\1535400972.py:11: DtypeWarning: Columns (61,62,94) have mixed types. Specify dtype option on import or set low_memory=False.\n",
      "  df = pd.read_csv(r'base de dados\\{}'.format(arquivo.name))\n",
      "C:\\Users\\Raphael Castelar\\AppData\\Local\\Temp\\ipykernel_12012\\1535400972.py:11: DtypeWarning: Columns (61,62,94) have mixed types. Specify dtype option on import or set low_memory=False.\n",
      "  df = pd.read_csv(r'base de dados\\{}'.format(arquivo.name))\n",
      "C:\\Users\\Raphael Castelar\\AppData\\Local\\Temp\\ipykernel_12012\\1535400972.py:11: DtypeWarning: Columns (61,62,94) have mixed types. Specify dtype option on import or set low_memory=False.\n",
      "  df = pd.read_csv(r'base de dados\\{}'.format(arquivo.name))\n",
      "C:\\Users\\Raphael Castelar\\AppData\\Local\\Temp\\ipykernel_12012\\1535400972.py:11: DtypeWarning: Columns (61,62,94) have mixed types. Specify dtype option on import or set low_memory=False.\n",
      "  df = pd.read_csv(r'base de dados\\{}'.format(arquivo.name))\n",
      "C:\\Users\\Raphael Castelar\\AppData\\Local\\Temp\\ipykernel_12012\\1535400972.py:11: DtypeWarning: Columns (87) have mixed types. Specify dtype option on import or set low_memory=False.\n",
      "  df = pd.read_csv(r'base de dados\\{}'.format(arquivo.name))\n",
      "C:\\Users\\Raphael Castelar\\AppData\\Local\\Temp\\ipykernel_12012\\1535400972.py:11: DtypeWarning: Columns (61,62,94) have mixed types. Specify dtype option on import or set low_memory=False.\n",
      "  df = pd.read_csv(r'base de dados\\{}'.format(arquivo.name))\n",
      "C:\\Users\\Raphael Castelar\\AppData\\Local\\Temp\\ipykernel_12012\\1535400972.py:11: DtypeWarning: Columns (61,62,94) have mixed types. Specify dtype option on import or set low_memory=False.\n",
      "  df = pd.read_csv(r'base de dados\\{}'.format(arquivo.name))\n",
      "C:\\Users\\Raphael Castelar\\AppData\\Local\\Temp\\ipykernel_12012\\1535400972.py:11: DtypeWarning: Columns (87) have mixed types. Specify dtype option on import or set low_memory=False.\n",
      "  df = pd.read_csv(r'base de dados\\{}'.format(arquivo.name))\n",
      "C:\\Users\\Raphael Castelar\\AppData\\Local\\Temp\\ipykernel_12012\\1535400972.py:11: DtypeWarning: Columns (61,62,94) have mixed types. Specify dtype option on import or set low_memory=False.\n",
      "  df = pd.read_csv(r'base de dados\\{}'.format(arquivo.name))\n",
      "C:\\Users\\Raphael Castelar\\AppData\\Local\\Temp\\ipykernel_12012\\1535400972.py:11: DtypeWarning: Columns (61,62,94) have mixed types. Specify dtype option on import or set low_memory=False.\n",
      "  df = pd.read_csv(r'base de dados\\{}'.format(arquivo.name))\n",
      "C:\\Users\\Raphael Castelar\\AppData\\Local\\Temp\\ipykernel_12012\\1535400972.py:11: DtypeWarning: Columns (61,62,94) have mixed types. Specify dtype option on import or set low_memory=False.\n",
      "  df = pd.read_csv(r'base de dados\\{}'.format(arquivo.name))\n",
      "C:\\Users\\Raphael Castelar\\AppData\\Local\\Temp\\ipykernel_12012\\1535400972.py:11: DtypeWarning: Columns (61,62,94) have mixed types. Specify dtype option on import or set low_memory=False.\n",
      "  df = pd.read_csv(r'base de dados\\{}'.format(arquivo.name))\n",
      "C:\\Users\\Raphael Castelar\\AppData\\Local\\Temp\\ipykernel_12012\\1535400972.py:11: DtypeWarning: Columns (61,62,94) have mixed types. Specify dtype option on import or set low_memory=False.\n",
      "  df = pd.read_csv(r'base de dados\\{}'.format(arquivo.name))\n",
      "C:\\Users\\Raphael Castelar\\AppData\\Local\\Temp\\ipykernel_12012\\1535400972.py:11: DtypeWarning: Columns (87) have mixed types. Specify dtype option on import or set low_memory=False.\n",
      "  df = pd.read_csv(r'base de dados\\{}'.format(arquivo.name))\n",
      "C:\\Users\\Raphael Castelar\\AppData\\Local\\Temp\\ipykernel_12012\\1535400972.py:11: DtypeWarning: Columns (87) have mixed types. Specify dtype option on import or set low_memory=False.\n",
      "  df = pd.read_csv(r'base de dados\\{}'.format(arquivo.name))\n",
      "C:\\Users\\Raphael Castelar\\AppData\\Local\\Temp\\ipykernel_12012\\1535400972.py:11: DtypeWarning: Columns (61,62,94) have mixed types. Specify dtype option on import or set low_memory=False.\n",
      "  df = pd.read_csv(r'base de dados\\{}'.format(arquivo.name))\n",
      "C:\\Users\\Raphael Castelar\\AppData\\Local\\Temp\\ipykernel_12012\\1535400972.py:11: DtypeWarning: Columns (87) have mixed types. Specify dtype option on import or set low_memory=False.\n",
      "  df = pd.read_csv(r'base de dados\\{}'.format(arquivo.name))\n",
      "C:\\Users\\Raphael Castelar\\AppData\\Local\\Temp\\ipykernel_12012\\1535400972.py:11: DtypeWarning: Columns (61,62,94) have mixed types. Specify dtype option on import or set low_memory=False.\n",
      "  df = pd.read_csv(r'base de dados\\{}'.format(arquivo.name))\n"
     ]
    },
    {
     "ename": "ValueError",
     "evalue": "invalid literal for int() with base 10: 'data '",
     "output_type": "error",
     "traceback": [
      "\u001b[1;31m---------------------------------------------------------------------------\u001b[0m",
      "\u001b[1;31mValueError\u001b[0m                                Traceback (most recent call last)",
      "Cell \u001b[1;32mIn[11], line 10\u001b[0m\n\u001b[0;32m      8\u001b[0m \u001b[38;5;250m\u001b[39m\u001b[38;5;124;03m\"\"\"mes = meses[nome_mes]\"\"\"\u001b[39;00m\n\u001b[0;32m      9\u001b[0m ano \u001b[38;5;241m=\u001b[39m arquivo\u001b[38;5;241m.\u001b[39mname[\u001b[38;5;241m-\u001b[39m\u001b[38;5;241m8\u001b[39m:]\n\u001b[1;32m---> 10\u001b[0m ano \u001b[38;5;241m=\u001b[39m \u001b[38;5;28;43mint\u001b[39;49m\u001b[43m(\u001b[49m\u001b[43mano\u001b[49m\u001b[38;5;241;43m.\u001b[39;49m\u001b[43mreplace\u001b[49m\u001b[43m(\u001b[49m\u001b[38;5;124;43m'\u001b[39;49m\u001b[38;5;124;43m.csv\u001b[39;49m\u001b[38;5;124;43m'\u001b[39;49m\u001b[43m,\u001b[49m\u001b[43m \u001b[49m\u001b[38;5;124;43m'\u001b[39;49m\u001b[38;5;124;43m \u001b[39;49m\u001b[38;5;124;43m'\u001b[39;49m\u001b[43m)\u001b[49m\u001b[43m)\u001b[49m\n\u001b[0;32m     11\u001b[0m df \u001b[38;5;241m=\u001b[39m pd\u001b[38;5;241m.\u001b[39mread_csv(\u001b[38;5;124mr\u001b[39m\u001b[38;5;124m'\u001b[39m\u001b[38;5;124mbase de dados\u001b[39m\u001b[38;5;124m\\\u001b[39m\u001b[38;5;132;01m{}\u001b[39;00m\u001b[38;5;124m'\u001b[39m\u001b[38;5;241m.\u001b[39mformat(arquivo\u001b[38;5;241m.\u001b[39mname))\n\u001b[0;32m     12\u001b[0m df[\u001b[38;5;124m'\u001b[39m\u001b[38;5;124mano\u001b[39m\u001b[38;5;124m'\u001b[39m] \u001b[38;5;241m=\u001b[39m ano\n",
      "\u001b[1;31mValueError\u001b[0m: invalid literal for int() with base 10: 'data '"
     ]
    }
   ],
   "source": [
    "caminho_bases = pathlib.Path('base de dados')\n",
    "base_airbnb = pd.DataFrame()\n",
    "meses = {'jan' : 1, 'fev' : 2, 'mar' : 3, 'abr' : 4, 'mai' : 5, 'jun' : 6, 'jul' : 7, 'ago' : 8, 'set' : 9, 'out': 10, 'nov' : 11, 'dez' : 12}\n",
    "\n",
    "\n",
    "for arquivo in caminho_bases.iterdir():\n",
    "    nome_mes = arquivo.name[:3]\n",
    "    mes = meses[nome_mes]\n",
    "    ano = arquivo.name[-8:]\n",
    "    ano = int(ano.replace('.csv', ''))\n",
    "    df = pd.read_csv(r'base de dados\\{}'.format(arquivo.name))\n",
    "    df['ano'] = ano\n",
    "    df['mes'] = mes\n",
    "\n",
    "    base_airbnb = base_airbnb._append(df)\n",
    "\n"
   ]
  },
  {
   "cell_type": "code",
   "execution_count": null,
   "metadata": {},
   "outputs": [],
   "source": [
    "display(base_airbnb)"
   ]
  },
  {
   "cell_type": "code",
   "execution_count": null,
   "metadata": {},
   "outputs": [],
   "source": []
  }
 ],
 "metadata": {
  "kernelspec": {
   "display_name": "Python 3",
   "language": "python",
   "name": "python3"
  },
  "language_info": {
   "codemirror_mode": {
    "name": "ipython",
    "version": 3
   },
   "file_extension": ".py",
   "mimetype": "text/x-python",
   "name": "python",
   "nbconvert_exporter": "python",
   "pygments_lexer": "ipython3",
   "version": "3.12.2"
  }
 },
 "nbformat": 4,
 "nbformat_minor": 2
}
