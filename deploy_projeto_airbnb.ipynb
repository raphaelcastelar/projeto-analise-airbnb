{
 "cells": [
  {
   "cell_type": "code",
   "execution_count": 1,
   "metadata": {},
   "outputs": [
    {
     "name": "stderr",
     "output_type": "stream",
     "text": [
      "2024-08-06 13:32:50.978 WARNING streamlit.runtime.state.session_state_proxy: Session state does not function when running a script without `streamlit run`\n",
      "2024-08-06 13:32:51.038 \n",
      "  \u001b[33m\u001b[1mWarning:\u001b[0m to view this Streamlit app on a browser, run it with the following\n",
      "  command:\n",
      "\n",
      "    streamlit run /Users/selmajosecastelarferreira/Desktop/projeto-analise-airbnb/.venv/lib/python3.12/site-packages/ipykernel_launcher.py [ARGUMENTS]\n"
     ]
    }
   ],
   "source": [
    "import pandas as pd\n",
    "import streamlit as st\n",
    "import joblib\n",
    "\n",
    "x_numericos = {'host_listings_count':0, 'latitude': 0, 'longitude':0, 'accommodates':0, 'bathrooms':0, 'bedrooms':0, 'beds':0, 'price':0, 'extra_people':0, 'minimum_nights': 0, 'ano':0, 'mes':0, 'n_amenities':0}\n",
    "\n",
    "x_tf = {'host_is_superhost': 0, 'intant_bookable': 0}\n",
    "\n",
    "x_listas = {'property_type': ['Apartament', 'Bed and breakfast', 'Condominium', 'suite', 'Guesthouse', 'Hostel', 'House', 'Loft', 'Outros', 'Serviced Apartament'],\n",
    "            'room_type': ['Entire home/apt', 'Hotel room', 'Private room', 'Shared room'],\n",
    "            'cancelation_policy': ['flexible', 'moderate', 'strict', 'strict_14_with_grace_period']}\n",
    "\n",
    "for item in x_numericos:\n",
    "    valor = st.number_input(f'{item}')\n",
    "\n",
    "for item in x_tf:\n",
    "    valor = st.selectbox(f'{item}', ('Sim', 'Não'))\n",
    "\n",
    "for item in x_listas:\n",
    "    valor = st.selectbox(f'{item}', x_listas[item])\n",
    "\n",
    "botao = st.button('Prever Valor do Imovel')"
   ]
  },
  {
   "cell_type": "code",
   "execution_count": null,
   "metadata": {},
   "outputs": [],
   "source": []
  },
  {
   "cell_type": "code",
   "execution_count": null,
   "metadata": {},
   "outputs": [],
   "source": []
  }
 ],
 "metadata": {
  "kernelspec": {
   "display_name": ".venv",
   "language": "python",
   "name": "python3"
  },
  "language_info": {
   "codemirror_mode": {
    "name": "ipython",
    "version": 3
   },
   "file_extension": ".py",
   "mimetype": "text/x-python",
   "name": "python",
   "nbconvert_exporter": "python",
   "pygments_lexer": "ipython3",
   "version": "3.12.4"
  }
 },
 "nbformat": 4,
 "nbformat_minor": 2
}
